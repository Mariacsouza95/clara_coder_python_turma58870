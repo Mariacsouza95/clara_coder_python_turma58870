{
 "cells": [
  {
   "cell_type": "markdown",
   "metadata": {},
   "source": [
    "## Desafio Complementar - Aula 2"
   ]
  },
  {
   "cell_type": "markdown",
   "metadata": {},
   "source": [
    "Questão 1 - Escreva um programa em Python que calcule o IMC (Índice de Massa Corporal) de uma pessoa. O programa deve solicitar ao usuário o peso em kg e a altura em metros, e em seguida, calcular e imprimir o valor do IMC."
   ]
  },
  {
   "cell_type": "code",
   "execution_count": 2,
   "metadata": {},
   "outputs": [
    {
     "name": "stdout",
     "output_type": "stream",
     "text": [
      "Seu IMC é 25\n"
     ]
    }
   ],
   "source": [
    "Peso = float(input(\"Seu peso:\"))\n",
    "Altura = float(input(\"Sua altura:\"))\n",
    "\n",
    "IMC = int(Peso // (Altura **2))\n",
    "\n",
    "print(f\"Seu IMC é {IMC}\")"
   ]
  },
  {
   "cell_type": "markdown",
   "metadata": {},
   "source": [
    "Questão 2 - Faça um programa que crie uma lista vazia e permita que o usuário insira 5 números inteiros na lista."
   ]
  },
  {
   "cell_type": "code",
   "execution_count": 3,
   "metadata": {},
   "outputs": [
    {
     "data": {
      "text/plain": [
       "[1, 2, 3, 4, 5]"
      ]
     },
     "execution_count": 3,
     "metadata": {},
     "output_type": "execute_result"
    }
   ],
   "source": [
    "lista = []\n",
    "lista.append(int(input(\"Digite um número1:\")))\n",
    "lista.append(int(input(\"Digite um número2:\")))\n",
    "lista.append(int(input(\"Digite um número3:\")))\n",
    "lista.append(int(input(\"Digite um número4:\")))\n",
    "lista.append(int(input(\"Digite um número5:\")))\n",
    "lista"
   ]
  },
  {
   "cell_type": "markdown",
   "metadata": {},
   "source": [
    "Questão 3 - Faça um programa que peça ao usuário para digitar uma lista de nomes separados por vírgula e transforme essa lista em uma lista de strings."
   ]
  },
  {
   "cell_type": "code",
   "execution_count": 4,
   "metadata": {},
   "outputs": [
    {
     "data": {
      "text/plain": [
       "['Maria', ' Clara', ' Souza']"
      ]
     },
     "execution_count": 4,
     "metadata": {},
     "output_type": "execute_result"
    }
   ],
   "source": [
    "lista_nomes = input(\"Digite 3 nomes separados por vírgula:\")\n",
    "lista_nomes.split(',')"
   ]
  }
 ],
 "metadata": {
  "kernelspec": {
   "display_name": "Python 3",
   "language": "python",
   "name": "python3"
  },
  "language_info": {
   "codemirror_mode": {
    "name": "ipython",
    "version": 3
   },
   "file_extension": ".py",
   "mimetype": "text/x-python",
   "name": "python",
   "nbconvert_exporter": "python",
   "pygments_lexer": "ipython3",
   "version": "3.12.3"
  }
 },
 "nbformat": 4,
 "nbformat_minor": 2
}
