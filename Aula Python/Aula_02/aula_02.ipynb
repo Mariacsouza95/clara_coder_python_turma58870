{
 "cells": [
  {
   "cell_type": "markdown",
   "metadata": {},
   "source": [
    "# Tuplas  "
   ]
  },
  {
   "cell_type": "markdown",
   "metadata": {},
   "source": [
    "Exercício 1"
   ]
  },
  {
   "cell_type": "code",
   "execution_count": 10,
   "metadata": {},
   "outputs": [
    {
     "name": "stdout",
     "output_type": "stream",
     "text": [
      "Seu novo saldo é: 940.0\n"
     ]
    }
   ],
   "source": [
    "saldo = 950.6\n",
    "type(saldo)\n",
    "saque = float(input(\"Quanto deseja sacar?\"))\n",
    "novo_saldo = saldo - saque\n",
    "print(\"Seu novo saldo é:\", novo_saldo)"
   ]
  },
  {
   "cell_type": "markdown",
   "metadata": {},
   "source": [
    "Exercício 2"
   ]
  },
  {
   "cell_type": "code",
   "execution_count": 15,
   "metadata": {},
   "outputs": [
    {
     "data": {
      "text/plain": [
       "{'abacate', 'banana', 'laranja', 'morango', 'pera', 'uva'}"
      ]
     },
     "execution_count": 15,
     "metadata": {},
     "output_type": "execute_result"
    }
   ],
   "source": [
    "frutas = [\"banana\", \"pera\", \"uva\", \"abacate\", \"laranja\"]\n",
    "fruta = input(\"Digite o nome da fruta: \")\n",
    "frutas.append(fruta)\n",
    "\n",
    "frutas = set(frutas)\n",
    "frutas"
   ]
  },
  {
   "cell_type": "markdown",
   "metadata": {},
   "source": [
    "Exercício 3"
   ]
  },
  {
   "cell_type": "code",
   "execution_count": null,
   "metadata": {},
   "outputs": [],
   "source": []
  }
 ],
 "metadata": {
  "kernelspec": {
   "display_name": "Python 3",
   "language": "python",
   "name": "python3"
  },
  "language_info": {
   "codemirror_mode": {
    "name": "ipython",
    "version": 3
   },
   "file_extension": ".py",
   "mimetype": "text/x-python",
   "name": "python",
   "nbconvert_exporter": "python",
   "pygments_lexer": "ipython3",
   "version": "3.12.3"
  }
 },
 "nbformat": 4,
 "nbformat_minor": 2
}
