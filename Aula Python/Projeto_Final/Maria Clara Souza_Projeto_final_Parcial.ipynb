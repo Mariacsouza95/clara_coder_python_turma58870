{
 "cells": [
  {
   "cell_type": "code",
   "execution_count": 7,
   "metadata": {},
   "outputs": [
    {
     "name": "stdout",
     "output_type": "stream",
     "text": [
      "Collecting plyer\n",
      "  Downloading plyer-2.1.0-py2.py3-none-any.whl.metadata (61 kB)\n",
      "     ---------------------------------------- 0.0/61.2 kB ? eta -:--:--\n",
      "     ------ --------------------------------- 10.2/61.2 kB ? eta -:--:--\n",
      "     ------------ ------------------------- 20.5/61.2 kB 165.2 kB/s eta 0:00:01\n",
      "     ------------ ------------------------- 20.5/61.2 kB 165.2 kB/s eta 0:00:01\n",
      "     ------------------------- ------------ 41.0/61.2 kB 219.4 kB/s eta 0:00:01\n",
      "     ------------------------------- ------ 51.2/61.2 kB 262.6 kB/s eta 0:00:01\n",
      "     -------------------------------------- 61.2/61.2 kB 250.8 kB/s eta 0:00:00\n",
      "Downloading plyer-2.1.0-py2.py3-none-any.whl (142 kB)\n",
      "   ---------------------------------------- 0.0/142.3 kB ? eta -:--:--\n",
      "   -------------------- ------------------- 71.7/142.3 kB 2.0 MB/s eta 0:00:01\n",
      "   -------------------- ------------------- 71.7/142.3 kB 2.0 MB/s eta 0:00:01\n",
      "   ------------------------------ ------- 112.6/142.3 kB 819.2 kB/s eta 0:00:01\n",
      "   -------------------------------------- 142.3/142.3 kB 846.3 kB/s eta 0:00:00\n",
      "Installing collected packages: plyer\n",
      "Successfully installed plyer-2.1.0\n",
      "Note: you may need to restart the kernel to use updated packages.\n"
     ]
    }
   ],
   "source": [
    "pip install plyer"
   ]
  },
  {
   "cell_type": "code",
   "execution_count": 6,
   "metadata": {},
   "outputs": [
    {
     "ename": "SyntaxError",
     "evalue": "invalid syntax (423338677.py, line 3)",
     "output_type": "error",
     "traceback": [
      "\u001b[1;36m  Cell \u001b[1;32mIn[6], line 3\u001b[1;36m\u001b[0m\n\u001b[1;33m    pip install plyer\u001b[0m\n\u001b[1;37m        ^\u001b[0m\n\u001b[1;31mSyntaxError\u001b[0m\u001b[1;31m:\u001b[0m invalid syntax\n"
     ]
    }
   ],
   "source": [
    "from plyer import notification\n",
    "from datetime import datetime\n",
    "\n",
    "def alerta(nivel, base, etapa):\n",
    "    \n",
    "    # Definindo o título com base no nível\n",
    "    if nivel == 1:\n",
    "        titulo = \"Alerta Baixo\"\n",
    "    elif nivel == 2:\n",
    "        titulo = \"Alerta Médio\"\n",
    "    elif nivel == 3:\n",
    "        titulo = \"Alerta Alto\"\n",
    "    else:\n",
    "        titulo = \"Alerta\"\n",
    "\n",
    "    # Mensagem de alerta\n",
    "    mensagem = f\"Falha no carregamento da base {base} na etapa {etapa}\"\n",
    "\n",
    "    # Data atual\n",
    "    data_atual = datetime.now().strftime(\"%d/%m/%Y %H:%M:%S\")\n",
    "\n",
    "    # Notificação\n",
    "    notification.notify(\n",
    "        title=titulo,\n",
    "        message=f\"{mensagem}\\nData: {data_atual}\",\n",
    "        app_name='Nome do aplicativo',\n",
    "        timeout=10\n",
    "    )\n",
    "\n",
    "# Exemplo de chamada da função\n",
    "alerta(1, \"Base de Dados ficticia\", \"Etapa 1\")\n",
    "alerta(2, \"Base de Dados ficticia\", \"Etapa 2\")\n",
    "alerta(3, \"Base de Dados ficticia\", \"Etapa 3\")\n"
   ]
  }
 ],
 "metadata": {
  "kernelspec": {
   "display_name": "Python 3",
   "language": "python",
   "name": "python3"
  },
  "language_info": {
   "codemirror_mode": {
    "name": "ipython",
    "version": 3
   },
   "file_extension": ".py",
   "mimetype": "text/x-python",
   "name": "python",
   "nbconvert_exporter": "python",
   "pygments_lexer": "ipython3",
   "version": "3.12.3"
  }
 },
 "nbformat": 4,
 "nbformat_minor": 2
}
