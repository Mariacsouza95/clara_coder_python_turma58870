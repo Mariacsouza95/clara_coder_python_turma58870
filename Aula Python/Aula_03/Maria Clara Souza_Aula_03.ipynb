{
 "cells": [
  {
   "cell_type": "markdown",
   "metadata": {},
   "source": [
    "## Momento mão na massa - Aula 3"
   ]
  },
  {
   "cell_type": "markdown",
   "metadata": {},
   "source": [
    "Questão 1 - Escreva um programa que receba um número inteiro e exiba se ele é par ou ímpar."
   ]
  },
  {
   "cell_type": "code",
   "execution_count": 5,
   "metadata": {},
   "outputs": [
    {
     "name": "stdout",
     "output_type": "stream",
     "text": [
      "Par\n"
     ]
    }
   ],
   "source": [
    "Numero = float(input(\"Digite um número:\"))\n",
    "\n",
    "if (Numero % 2) == 0:\n",
    "    print(\"Par\")\n",
    "else:\n",
    "    print(\"Ímpar\")\n"
   ]
  },
  {
   "cell_type": "markdown",
   "metadata": {},
   "source": [
    "Questão 2 - Escreva um programa em Python que solicita ao usuário uma frase e, em seguida, exibe cada palavra e seu número de caracteres."
   ]
  },
  {
   "cell_type": "code",
   "execution_count": 8,
   "metadata": {},
   "outputs": [
    {
     "name": "stdout",
     "output_type": "stream",
     "text": [
      "Meu: 3 caracteres\n",
      "deus: 4 caracteres\n",
      "do: 2 caracteres\n",
      "céu: 3 caracteres\n"
     ]
    }
   ],
   "source": [
    "Escolha_frase = input(\"Escolha alguma frase que goste:\")\n",
    "\n",
    "lista_palavras = Escolha_frase.split()\n",
    "\n",
    "for palavra in lista_palavras:\n",
    "    print(f\"{palavra}: {len(palavra)} caracteres\")"
   ]
  },
  {
   "cell_type": "markdown",
   "metadata": {},
   "source": [
    "Questão 3 - Crie um programa em Python que solicita ao usuário uma senha numérica de 4 dígitos. O programa deve repetir essa solicitação até que o usuário informe a senha correta (1234)."
   ]
  },
  {
   "cell_type": "code",
   "execution_count": 10,
   "metadata": {},
   "outputs": [
    {
     "name": "stdout",
     "output_type": "stream",
     "text": [
      "Senha incorreta.\n",
      "Senha correta. Acesso Permitido.\n"
     ]
    }
   ],
   "source": [
    "senha_correta = \"1234\"\n",
    "\n",
    "senha = input(\"Digite a sua senha:\")\n",
    "\n",
    "while senha != senha_correta:\n",
    "    print(\"Senha incorreta.\")\n",
    "    senha = input(\"Digite a sua senha:\")\n",
    "\n",
    "print(\"Senha correta. Acesso Permitido.\")\n"
   ]
  },
  {
   "cell_type": "markdown",
   "metadata": {},
   "source": [
    "Questão 4 - Escreva um programa que dado um valor n calcula o fatorial de n."
   ]
  },
  {
   "cell_type": "code",
   "execution_count": 17,
   "metadata": {},
   "outputs": [
    {
     "name": "stdout",
     "output_type": "stream",
     "text": [
      "O fatorial de 3 é 6.\n"
     ]
    }
   ],
   "source": [
    "# Solicita ao usuário um valor para n\n",
    "n = int(input(\"Digite um valor para n: \"))\n",
    "\n",
    "# Inicializa o fatorial como 1\n",
    "fatorial = 1\n",
    "\n",
    "# Calcula o fatorial usando um loop for\n",
    "for i in range(1, n + 1):\n",
    "    fatorial *= i\n",
    "\n",
    "# Exibe o resultado\n",
    "print(f\"O fatorial de {n} é {fatorial}.\")"
   ]
  },
  {
   "cell_type": "markdown",
   "metadata": {},
   "source": [
    "Questão 5 - Crie um dicionário com os dados da tabela ao lado, crie um loop para exibir os valores.  "
   ]
  },
  {
   "cell_type": "code",
   "execution_count": 16,
   "metadata": {},
   "outputs": [
    {
     "name": "stdout",
     "output_type": "stream",
     "text": [
      "Mês: Janeiro, Quantidade: 232\n",
      "Mês: Fevereiro, Quantidade: 321\n",
      "Mês: Junho, Quantidade: 589\n",
      "Mês: Julho, Quantidade: 547\n"
     ]
    }
   ],
   "source": [
    "meu_dict = {\n",
    "    \"Mês\": [\"Janeiro\", \"Fevereiro\", \"Junho\", \"Julho\"],\n",
    "    \"Quantidade\": [232, 321, 589, 547]\n",
    "}\n",
    "\n",
    "for i in range(len(meu_dict[\"Mês\"])):\n",
    "    print(f\"Mês: {meu_dict['Mês'][i]}, Quantidade: {meu_dict['Quantidade'][i]}\")"
   ]
  }
 ],
 "metadata": {
  "kernelspec": {
   "display_name": "Python 3",
   "language": "python",
   "name": "python3"
  },
  "language_info": {
   "codemirror_mode": {
    "name": "ipython",
    "version": 3
   },
   "file_extension": ".py",
   "mimetype": "text/x-python",
   "name": "python",
   "nbconvert_exporter": "python",
   "pygments_lexer": "ipython3",
   "version": "3.12.3"
  }
 },
 "nbformat": 4,
 "nbformat_minor": 2
}
