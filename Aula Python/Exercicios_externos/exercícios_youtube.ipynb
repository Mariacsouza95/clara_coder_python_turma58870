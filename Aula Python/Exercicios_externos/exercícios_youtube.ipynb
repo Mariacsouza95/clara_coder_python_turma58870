{
 "cells": [
  {
   "cell_type": "markdown",
   "metadata": {},
   "source": [
    "##### Faça um programa que tenha uma função chamada área (), que receba as dimensões de um terreno retangular (largura e comprimento) e mostre a área do terreno."
   ]
  },
  {
   "cell_type": "code",
   "execution_count": 5,
   "metadata": {},
   "outputs": [
    {
     "name": "stdout",
     "output_type": "stream",
     "text": [
      " Controle de terrenos\n",
      "--------------------\n",
      "A área do terreno é 20.0 m².\n"
     ]
    }
   ],
   "source": [
    "def area (largura, comprimento):\n",
    "    area = largura * comprimento\n",
    "    print(f\"A área do terreno é {area} m².\")\n",
    "\n",
    "\n",
    "# Programa principal\n",
    "print(\" Controle de terrenos\")\n",
    "print (\"-\" * 20)\n",
    "largura = float(input(\"Qual é a largura do terreno (m²)?\"))\n",
    "comprimento = float(input(\"Qual é o comprimento do terreno (m²)?\"))\n",
    "area(largura, comprimento)\n"
   ]
  },
  {
   "cell_type": "markdown",
   "metadata": {},
   "source": [
    "##### Faça um programa que tenha uma função chamada escreva (), que receba um texto qualquer como parâmetro e mostra uma mensagem com tamanho adaptável"
   ]
  },
  {
   "cell_type": "code",
   "execution_count": 12,
   "metadata": {},
   "outputs": [
    {
     "name": "stdout",
     "output_type": "stream",
     "text": [
      "-------------------------\n",
      " Ai é loucura, meu irmão\n",
      "-------------------------\n",
      "------------\n",
      " good night\n",
      "------------\n"
     ]
    }
   ],
   "source": [
    "def escreva (msg):\n",
    "    tam = len(msg) + 2\n",
    "    print(\"-\" * tam)\n",
    "    print(f' {msg}')\n",
    "    print(\"-\" * tam)\n",
    "\n",
    "\n",
    "# Program principal\n",
    "escreva(\"Ai é loucura, meu irmão\")\n",
    "escreva(\"good night\")"
   ]
  },
  {
   "cell_type": "markdown",
   "metadata": {},
   "source": [
    "##### Faça um programa que tenha uma função chamada contador(), que receba três parâmetros: início, fim e passo e realize a contagem. Seu programa tem que realizar três contagens através da função criada: a) de 1 até 10, de 1 em 1 - b) de 10 até 0 de 2 em 2 c) uma contagem personalizada."
   ]
  },
  {
   "cell_type": "code",
   "execution_count": 9,
   "metadata": {},
   "outputs": [
    {
     "name": "stdout",
     "output_type": "stream",
     "text": [
      "--------------------\n",
      "Contagem de 1 até 10 de 1 em 1.\n",
      "1 2 3 4 5 6 7 8 9 10 FIM!\n",
      "--------------------\n",
      "Contagem de 10 até 0 de 2 em 2.\n",
      "10 8 6 4 2 0 FIM!\n",
      "--------------------\n",
      "Contagem de 10 até 20 de 2 em 2.\n",
      "10 12 14 16 18 20 FIM!\n"
     ]
    }
   ],
   "source": [
    "from time import sleep\n",
    "\n",
    "def contador(inicio, fim, passo):\n",
    "    if passo < 0:\n",
    "        passo *= -1\n",
    "    if passo == 0:\n",
    "        passo = 1\n",
    "    print ('-'*20)\n",
    "    print(f'Contagem de {inicio} até {fim} de {passo} em {passo}.')\n",
    "    sleep(2.5)\n",
    "\n",
    "    if inicio < fim:\n",
    "        contador = inicio\n",
    "        while contador <= fim:\n",
    "            print(f'{contador} ', end='')\n",
    "            sleep(0.5)\n",
    "            contador += passo\n",
    "        print('FIM!')\n",
    "    else:\n",
    "        contador = inicio\n",
    "        while contador >= fim:\n",
    "            print(f'{contador} ', end='')\n",
    "            sleep(0.5)\n",
    "            contador -= passo\n",
    "        print('FIM!')\n",
    "        \n",
    "\n",
    "#Programa principal\n",
    "contador(1, 10, 1)\n",
    "contador(10, 0, -2)\n",
    "contador(int(input(\"inicio\")), int(input(\"fim\")), int(input(\"passo\")))"
   ]
  },
  {
   "cell_type": "markdown",
   "metadata": {},
   "source": [
    "##### Faça um porgrama que tenha uma função chamada maior(), que receba vários parâmetros com valores inteiros. Seu programa tem que analisar todos os valores e dizer qual deles é o maior."
   ]
  },
  {
   "cell_type": "markdown",
   "metadata": {},
   "source": [
    "https://www.youtube.com/watch?v=vp9UX7wr92o&list=PLHz_AreHm4dm6wYOIW20Nyg12TAjmMGT-&index=100"
   ]
  },
  {
   "cell_type": "code",
   "execution_count": null,
   "metadata": {},
   "outputs": [],
   "source": []
  },
  {
   "cell_type": "markdown",
   "metadata": {},
   "source": [
    "##### Faça um programa que tenha uma lista chamada números e duas funções chamadas sorteio () e somaPar(). A primeira função vai sortear 5 números e vai colocá-los dentro da lista e a segunda função vai mostrar a soma entre todos os valores pares sorteados pela função anterior."
   ]
  },
  {
   "cell_type": "markdown",
   "metadata": {},
   "source": [
    "https://www.youtube.com/watch?v=MEs-41JcuhM&list=PLHz_AreHm4dm6wYOIW20Nyg12TAjmMGT-&index=101"
   ]
  },
  {
   "cell_type": "code",
   "execution_count": null,
   "metadata": {},
   "outputs": [],
   "source": []
  }
 ],
 "metadata": {
  "kernelspec": {
   "display_name": "Python 3",
   "language": "python",
   "name": "python3"
  },
  "language_info": {
   "codemirror_mode": {
    "name": "ipython",
    "version": 3
   },
   "file_extension": ".py",
   "mimetype": "text/x-python",
   "name": "python",
   "nbconvert_exporter": "python",
   "pygments_lexer": "ipython3",
   "version": "3.12.3"
  }
 },
 "nbformat": 4,
 "nbformat_minor": 2
}
