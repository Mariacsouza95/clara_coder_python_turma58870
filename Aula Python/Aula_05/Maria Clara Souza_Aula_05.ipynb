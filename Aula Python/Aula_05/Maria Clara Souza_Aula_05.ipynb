{
 "cells": [
  {
   "cell_type": "markdown",
   "metadata": {},
   "source": [
    "## Mão na massa"
   ]
  },
  {
   "cell_type": "markdown",
   "metadata": {},
   "source": [
    "Crie uma classe Retangulo que tenha os atributos base e altura e os métodos area() e perimetro(). Crie um objeto e teste os métodos. "
   ]
  },
  {
   "cell_type": "code",
   "execution_count": null,
   "metadata": {},
   "outputs": [
    {
     "name": "stdout",
     "output_type": "stream",
     "text": [
      " A área é 8\n",
      " O perímetro é 12\n"
     ]
    }
   ],
   "source": [
    "#### Definir a classe, atributos e métodos\n",
    "class Retangulo:\n",
    "    def __init__(self, base, altura):\n",
    "        self.base = base\n",
    "        self.altura = altura\n",
    "\n",
    "    def area(self):\n",
    "        return self.base * self.altura\n",
    "\n",
    "    def perimetro(self):\n",
    "        return 2 * (self.base + self.altura)\n",
    "\n",
    "#### Criar o objeto\n",
    "casa = Retangulo(2, 4)\n",
    "\n",
    "#### Testar os métodos area() e perimetro() o objeto\n",
    "print(f' A área é {casa.area()}')\n",
    "print(f' O perímetro é {casa.perimetro()}')"
   ]
  },
  {
   "cell_type": "markdown",
   "metadata": {},
   "source": [
    "Crie um arquivo chamado geometria.py e salve a classe Retangulo dentro desse arquivo. Importe a classe de algum outro arquivo e realize testes. "
   ]
  },
  {
   "cell_type": "code",
   "execution_count": 2,
   "metadata": {},
   "outputs": [
    {
     "name": "stdout",
     "output_type": "stream",
     "text": [
      " A área é 8\n",
      " O perímetro é 12\n"
     ]
    }
   ],
   "source": [
    "from geometria import Retangulo\n",
    "\n",
    "#### Criar o objeto\n",
    "casa = Retangulo(2, 4)\n",
    "\n",
    "#### Testar os métodos area() e perimetro() o objeto\n",
    "print(f' A área é {casa.area()}')\n",
    "print(f' O perímetro é {casa.perimetro()}')"
   ]
  },
  {
   "cell_type": "markdown",
   "metadata": {},
   "source": [
    "Crie uma classe Conta que tenha os atributos saldo e titular e os métodos depositar() e sacar(). Em seguida, instancie essa classe com um saldo inicial e realize algumas operações de depósito e saque para verificar se o saldo está sendo atualizado corretamente."
   ]
  },
  {
   "cell_type": "code",
   "execution_count": 27,
   "metadata": {},
   "outputs": [
    {
     "name": "stdout",
     "output_type": "stream",
     "text": [
      "Clara, seu saldo após o depósito é 110\n",
      "Clara, seu saldo após o saque é 105\n"
     ]
    }
   ],
   "source": [
    "#### Definir a classe, atributos e métodos\n",
    "\n",
    "class Conta:\n",
    "    def __init__(self, saldo, titular):\n",
    "        self.saldo = saldo\n",
    "        self.titular = titular\n",
    "\n",
    "    def depositar(self, valor):\n",
    "        self.saldo += valor\n",
    "\n",
    "    def sacar(self, valor):\n",
    "        self.saldo -= valor\n",
    "\n",
    "#### Criar o objeto\n",
    "\n",
    "conta_Clara = Conta(100, \"Clara\")\n",
    "\n",
    "#### Testar os métodos depositar() e sacar() o objeto\n",
    "valor_deposito = 10\n",
    "valor_saque = 5\n",
    "\n",
    "conta_Clara.depositar(valor_deposito)\n",
    "print(f'{conta_Clara.titular}, seu saldo após o depósito é {conta_Clara.saldo}')\n",
    "\n",
    "conta_Clara.sacar(valor_saque)\n",
    "print(f'{conta_Clara.titular}, seu saldo após o saque é {conta_Clara.saldo}')\n"
   ]
  }
 ],
 "metadata": {
  "kernelspec": {
   "display_name": "Python 3",
   "language": "python",
   "name": "python3"
  },
  "language_info": {
   "codemirror_mode": {
    "name": "ipython",
    "version": 3
   },
   "file_extension": ".py",
   "mimetype": "text/x-python",
   "name": "python",
   "nbconvert_exporter": "python",
   "pygments_lexer": "ipython3",
   "version": "3.12.3"
  }
 },
 "nbformat": 4,
 "nbformat_minor": 2
}
